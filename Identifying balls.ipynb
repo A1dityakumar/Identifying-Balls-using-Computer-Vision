{
 "cells": [
  {
   "cell_type": "code",
   "execution_count": 2,
   "id": "68096f1c",
   "metadata": {},
   "outputs": [
    {
     "name": "stdout",
     "output_type": "stream",
     "text": [
      "Requirement already satisfied: opencv-python in c:\\users\\aditya kumar\\anaconda3\\lib\\site-packages (4.9.0.80)\n",
      "Requirement already satisfied: numpy>=1.19.3 in c:\\users\\aditya kumar\\anaconda3\\lib\\site-packages (from opencv-python) (1.26.4)\n",
      "Requirement already satisfied: numpy in c:\\users\\aditya kumar\\anaconda3\\lib\\site-packages (1.26.4)\n",
      "Requirement already satisfied: imutils in c:\\users\\aditya kumar\\anaconda3\\lib\\site-packages (0.5.4)\n"
     ]
    }
   ],
   "source": [
    "!pip install opencv-python\n",
    "!pip install numpy\n",
    "!pip install imutils"
   ]
  },
  {
   "cell_type": "code",
   "execution_count": 4,
   "id": "0f9c598a",
   "metadata": {},
   "outputs": [],
   "source": [
    "!mkdir BallTracking\n",
    "!cd BallTracking\n"
   ]
  },
  {
   "cell_type": "code",
   "execution_count": 2,
   "id": "4f20f568",
   "metadata": {},
   "outputs": [],
   "source": [
    "import cv2\n",
    "import numpy as np\n",
    "import imutils\n",
    "import time"
   ]
  },
  {
   "cell_type": "code",
   "execution_count": 3,
   "id": "7f9e6114",
   "metadata": {},
   "outputs": [],
   "source": [
    "color_ranges = {\n",
    "    'red': ((0, 100, 100), (10, 255, 255)),\n",
    "    'blue': ((100, 150, 0), (140, 255, 255)),\n",
    "    'green': ((40, 70, 70), (80, 255, 255)),\n",
    "    'yellow': ((20, 100, 100), (30, 255, 255))\n",
    "\n",
    "    # Add more colors if needed\n",
    "}"
   ]
  },
  {
   "cell_type": "code",
   "execution_count": 4,
   "id": "3b35dad9",
   "metadata": {},
   "outputs": [],
   "source": [
    "def get_quadrant(x, y, width, height):\n",
    "    if x < width // 2 and y < height // 2:\n",
    "        return 1\n",
    "    elif x >= width // 2 and y < height // 2:\n",
    "        return 2\n",
    "    elif x < width // 2 and y >= height // 2:\n",
    "        return 3\n",
    "    else:\n",
    "        return 4"
   ]
  },
  {
   "cell_type": "code",
   "execution_count": 5,
   "id": "31dcd2bf",
   "metadata": {},
   "outputs": [],
   "source": [
    "# Initialize the video capture\n",
    "video_path = \"AI Assignment video.mp4\"\n",
    "cap = cv2.VideoCapture(video_path)\n",
    "\n",
    "if not cap.isOpened():\n",
    "    print(\"Error: Could not open video.\")\n",
    "    exit()\n"
   ]
  },
  {
   "cell_type": "code",
   "execution_count": 6,
   "id": "59f4c25e",
   "metadata": {},
   "outputs": [
    {
     "name": "stdout",
     "output_type": "stream",
     "text": [
      "Processing complete. Output video and tracking data saved.\n"
     ]
    }
   ],
   "source": [
    "# Get video properties\n",
    "width = int(cap.get(cv2.CAP_PROP_FRAME_WIDTH))\n",
    "height = int(cap.get(cv2.CAP_PROP_FRAME_HEIGHT))\n",
    "fps = cap.get(cv2.CAP_PROP_FPS)\n",
    "\n",
    "# Prepare output video writer\n",
    "fourcc = cv2.VideoWriter_fourcc(*'XVID')\n",
    "out = cv2.VideoWriter('output.avi', fourcc, fps, (width, height))\n",
    "\n",
    "# Initialize tracking data\n",
    "tracking_data = []\n",
    "\n",
    "# Initialize previous positions\n",
    "previous_positions = {color: [] for color in color_ranges}\n",
    "\n",
    "# Function to track balls and record events\n",
    "def track_balls(frame, frame_time):\n",
    "    hsv = cv2.cvtColor(frame, cv2.COLOR_BGR2HSV)\n",
    "    for color_name, (lower, upper) in color_ranges.items():\n",
    "        mask = cv2.inRange(hsv, lower, upper)\n",
    "        cnts, _ = cv2.findContours(mask.copy(), cv2.RETR_EXTERNAL, cv2.CHAIN_APPROX_SIMPLE)\n",
    "        for c in cnts:\n",
    "            if cv2.contourArea(c) < 500:\n",
    "                continue\n",
    "            ((x, y), radius) = cv2.minEnclosingCircle(c)\n",
    "            if radius > 10:\n",
    "                center_x = int(x)\n",
    "                center_y = int(y)\n",
    "                quadrant = get_quadrant(center_x, center_y, width, height)\n",
    "                event_type = \"Entry\" if (center_x, center_y) not in previous_positions[color_name] else \"Exit\"\n",
    "                previous_positions[color_name].append((center_x, center_y))\n",
    "                tracking_data.append((frame_time, quadrant, color_name, event_type))\n",
    "                text = f\"{event_type} - {frame_time:.2f}s\"\n",
    "                cv2.putText(frame, text, (center_x, center_y), cv2.FONT_HERSHEY_SIMPLEX, 0.6, (255, 255, 255), 2)\n",
    "                cv2.circle(frame, (center_x, center_y), int(radius), (0, 255, 255), 2)\n",
    "                cv2.putText(frame, f\"Quadrant {quadrant}\", (center_x, center_y + 20), cv2.FONT_HERSHEY_SIMPLEX, 0.6, (255, 255, 255), 2)\n",
    "\n",
    "# Main loop to process the video\n",
    "frame_skip = int(fps / 2)  # Process every other frame to reduce load\n",
    "start_time = time.time()\n",
    "frame_count = 0\n",
    "\n",
    "while cap.isOpened():\n",
    "    ret, frame = cap.read()\n",
    "    if not ret:\n",
    "        break\n",
    "\n",
    "    frame_count += 1\n",
    "    if frame_count % frame_skip != 0:\n",
    "        continue\n",
    "\n",
    "    frame_time = time.time() - start_time\n",
    "    track_balls(frame, frame_time)\n",
    "    out.write(frame)\n",
    "    cv2.imshow('Frame', frame)\n",
    "\n",
    "    if cv2.waitKey(1) & 0xFF == ord('q'):\n",
    "        break\n",
    "\n",
    "# Release resources\n",
    "cap.release()\n",
    "out.release()\n",
    "cv2.destroyAllWindows()\n",
    "\n",
    "# Write tracking data to a text file\n",
    "with open('tracking_data.txt', 'w') as file:\n",
    "    for data in tracking_data:\n",
    "        file.write(f\"{data[0]:.2f}, {data[1]}, {data[2]}, {data[3]}\\n\")\n",
    "\n",
    "print(\"Processing complete. Output video and tracking data saved.\")"
   ]
  },
  {
   "cell_type": "code",
   "execution_count": null,
   "id": "fcf81d6b",
   "metadata": {},
   "outputs": [],
   "source": []
  }
 ],
 "metadata": {
  "kernelspec": {
   "display_name": "Python 3 (ipykernel)",
   "language": "python",
   "name": "python3"
  },
  "language_info": {
   "codemirror_mode": {
    "name": "ipython",
    "version": 3
   },
   "file_extension": ".py",
   "mimetype": "text/x-python",
   "name": "python",
   "nbconvert_exporter": "python",
   "pygments_lexer": "ipython3",
   "version": "3.9.12"
  }
 },
 "nbformat": 4,
 "nbformat_minor": 5
}
